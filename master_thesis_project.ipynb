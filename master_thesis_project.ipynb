{
 "cells": [
  {
   "cell_type": "markdown",
   "metadata": {
    "colab_type": "text",
    "id": "jqXV0Oj8m6VN"
   },
   "source": [
    "## Introduction"
   ]
  },
  {
   "cell_type": "markdown",
   "metadata": {
    "colab_type": "text",
    "id": "Bvc3QJjEKmNl"
   },
   "source": [
    "This notebook is created in order to present my master thesis project.   \n",
    "\n",
    "The thesis investigates Random Forests in unsupervised mode, i.e., for\n",
    "clustering purposes. Random Forests are capable of producing the proximity matrix that is, subsequently, can be inputted to different clustering algorithms as a measure of similarity/dissimilarity between observations in order to produce partitions. \n",
    "\n",
    "Sometimes, especially when there are a large number of features in the dataset, there may be the need to perform clustering with respect to some variable, making one specific variable more important, and other specific variables less important, based on the subject-matter experts opinion or optimizing some cluster quality criterion. Overall, the motivation of such a procedure is to either produce clusters that reflect the desired bias or to improve the quality of clustering.\n",
    "\n",
    "For the purposes mentioned above a new Non-Uniform Random Forest algorithm (NURF), which is able to incorporate variable specific \"weights\", compared with usual RF procedure, is proposed, implemented and applied in this thesis. The usual RF procedure assumes a uniform probability distribution for the random feature selection process when looking for the best split. The \"weights\" in the NURF (the probabilities of selection of features during the Random Forest construction) allow to violate this assumption and assign any arbitrary probabilities of selection of features. The NURF is programmed from scratch here, and the uniform RF becomes just a special case of the NURF.     \n",
    "\n",
    "Uniform and Non-uniform Random Forests are applied to the simulated data to produce dissimilarity measures,  which are then processed by K-medoids and Spectral clustering algorithms to finally produce partitions. The results are visualized; the quality of clustering is evaluated; The Adjusted Rand Index (ARI) is chosen to be a measure of the quality of partitions. \n",
    "\n",
    "This notebook provides the code for the Random Forests implementation and the application of algorithms to the simulated data. \n",
    "\n",
    "As this is a very brief summary of one of the examples from the master thesis, a lot of information is omitted and something may not be clear. For a more extensive explanation, please find a full text of the master thesis here [[1]](#link1).\n"
   ]
  },
  {
   "cell_type": "markdown",
   "metadata": {
    "colab_type": "text",
    "id": "_x9V36KwKndB"
   },
   "source": [
    "## Table of content\n",
    "\n",
    "* [Functions](#func)\n",
    "* [Data Generating Process (DGP)](#DGPs) \n",
    "* [Random Forest Proximities](#prox)\n",
    "* [Clustering](#clustering)\n",
    "* [Conclusion](#conclusion)"
   ]
  },
  {
   "cell_type": "markdown",
   "metadata": {
    "colab_type": "text",
    "id": "N-MdOxCoLJfY"
   },
   "source": [
    "## Importing libraries"
   ]
  },
  {
   "cell_type": "code",
   "execution_count": 78,
   "metadata": {
    "colab": {
     "base_uri": "https://localhost:8080/",
     "height": 34
    },
    "colab_type": "code",
    "executionInfo": {
     "elapsed": 647,
     "status": "ok",
     "timestamp": 1586094323905,
     "user": {
      "displayName": "Arkadiy Davidyan",
      "photoUrl": "https://lh4.googleusercontent.com/-ClHzNWpT_6E/AAAAAAAAAAI/AAAAAAAAAUc/7thHljuT3Pc/s64/photo.jpg",
      "userId": "00493985683429285984"
     },
     "user_tz": -120
    },
    "id": "lTH7GdiRc9XG",
    "outputId": "2b8e1544-05e8-440d-93cb-020f9aadb23c"
   },
   "outputs": [
    {
     "name": "stdout",
     "output_type": "stream",
     "text": [
      "done\n"
     ]
    }
   ],
   "source": [
    "import numpy as np\n",
    "import pandas as pd \n",
    "import random\n",
    "from sklearn.utils import resample\n",
    "from sklearn.ensemble import RandomForestClassifier\n",
    "from sklearn.manifold import MDS\n",
    "import matplotlib.pyplot as plt\n",
    "from collections import Counter\n",
    "from sklearn.metrics.cluster import adjusted_rand_score\n",
    "from matplotlib.textpath import TextPath\n",
    "from sklearn.cluster import SpectralClustering\n",
    "import math\n",
    "%matplotlib inline\n",
    "print('done')"
   ]
  },
  {
   "cell_type": "code",
   "execution_count": 0,
   "metadata": {
    "colab": {},
    "colab_type": "code",
    "id": "ilvGwaMSsr6k"
   },
   "outputs": [],
   "source": [
    "# creating MDS models\n",
    "model = MDS(n_components=2,dissimilarity='precomputed',random_state=42)\n",
    "model1 = MDS(n_components=2,random_state=42) #euclidian distance "
   ]
  },
  {
   "cell_type": "markdown",
   "metadata": {
    "colab_type": "text",
    "id": "7o3qKb7NvXxP"
   },
   "source": [
    "## Functions <a name=\"func\"></a> \n",
    "\n",
    "In this Section, the functions that are used later are defined. The functions are used for performing Random Forest (RF) and the NURF in unsupervised mode, K-medoids clustering.\n",
    "\n",
    "The code for the K-medoids function is taken from here [[2]](#link2).\n",
    "\n",
    "The Random Forest algorithm is programmed with the help of this source [[3]](#link3).\n",
    " "
   ]
  },
  {
   "cell_type": "code",
   "execution_count": 0,
   "metadata": {
    "colab": {},
    "colab_type": "code",
    "id": "tE4ZP65kvXxR"
   },
   "outputs": [],
   "source": [
    "\n",
    "def kMedoids(D, k, tmax=100):\n",
    "    # determine dimensions of distance matrix D\n",
    "    m, n = D.shape\n",
    "\n",
    "    if k > n:\n",
    "        raise Exception('too many medoids')\n",
    "\n",
    "    # find a set of valid initial cluster medoid indices since we\n",
    "    # can't seed different clusters with two points at the same location\n",
    "    valid_medoid_inds = set(range(n))\n",
    "    invalid_medoid_inds = set([])\n",
    "    rs,cs = np.where(D==0)\n",
    "    # the rows, cols must be shuffled because we will keep the first duplicate below\n",
    "    index_shuf = list(range(len(rs)))\n",
    "    np.random.shuffle(index_shuf)\n",
    "    rs = rs[index_shuf]\n",
    "    cs = cs[index_shuf]\n",
    "    for r,c in zip(rs,cs):\n",
    "        # if there are two points with a distance of 0...\n",
    "        # keep the first one for cluster init\n",
    "        if r < c and r not in invalid_medoid_inds:\n",
    "            invalid_medoid_inds.add(c)\n",
    "    valid_medoid_inds = list(valid_medoid_inds - invalid_medoid_inds)\n",
    "\n",
    "    if k > len(valid_medoid_inds):\n",
    "        raise Exception('too many medoids (after removing {} duplicate points)'.format(\n",
    "            len(invalid_medoid_inds)))\n",
    "\n",
    "    # randomly initialize an array of k medoid indices\n",
    "    M = np.array(valid_medoid_inds)\n",
    "    np.random.shuffle(M)\n",
    "    M = np.sort(M[:k])\n",
    "\n",
    "    # create a copy of the array of medoid indices\n",
    "    Mnew = np.copy(M)\n",
    "\n",
    "    # initialize a dictionary to represent clusters\n",
    "    C = {}\n",
    "    for t in range(tmax):\n",
    "        # determine clusters, i. e. arrays of data indices\n",
    "        J = np.argmin(D[:,M], axis=1)\n",
    "        for kappa in range(k):\n",
    "            C[kappa] = np.where(J==kappa)[0]\n",
    "        # update cluster medoids\n",
    "        for kappa in range(k):\n",
    "            J = np.mean(D[np.ix_(C[kappa],C[kappa])],axis=1)\n",
    "            j = np.argmin(J)\n",
    "            Mnew[kappa] = C[kappa][j]\n",
    "        np.sort(Mnew)\n",
    "        # check for convergence\n",
    "        if np.array_equal(M, Mnew):\n",
    "            break\n",
    "        M = np.copy(Mnew)\n",
    "    else:\n",
    "        # final update of cluster memberships\n",
    "        J = np.argmin(D[:,M], axis=1)\n",
    "        for kappa in range(k):\n",
    "            C[kappa] = np.where(J==kappa)[0]\n",
    "\n",
    "    # return results\n",
    "    return M, C"
   ]
  },
  {
   "cell_type": "code",
   "execution_count": 0,
   "metadata": {
    "colab": {},
    "colab_type": "code",
    "id": "6an-hRTtvXxh"
   },
   "outputs": [],
   "source": [
    "def transform_dataset(dataset):\n",
    "    data = list()\n",
    "    for i in range(len(dataset)):\n",
    "        row = dataset.iloc[i,:].tolist()\n",
    "        data.append(row)\n",
    "    return data\n",
    "    \n",
    "    "
   ]
  },
  {
   "cell_type": "code",
   "execution_count": 0,
   "metadata": {
    "colab": {},
    "colab_type": "code",
    "id": "jJY95-BiCHtP"
   },
   "outputs": [],
   "source": [
    "def add_synthetic(dataset):\n",
    "  \n",
    "  \n",
    "  frame = dict()\n",
    "\n",
    "  for i in range(len(dataset.columns)):\n",
    "    a = resample(dataset.iloc[:,i]).reset_index(drop=True)\n",
    "    frame[dataset.columns[i]] = a\n",
    "\n",
    "  frame['index'] = range(len(dataset),len(dataset)*2)\n",
    "        \n",
    "  synthetic_dataset = pd.DataFrame(frame)\n",
    "  synthetic_dataset = synthetic_dataset.set_index('index')\n",
    "    \n",
    "  synthetic_dataset['label'] = 1\n",
    "  \n",
    "  dataset['label'] = 0\n",
    "  complete_dataset = pd.concat([dataset,synthetic_dataset])\n",
    "  dataset.drop('label',axis=1,inplace=True)\n",
    "  return complete_dataset"
   ]
  },
  {
   "cell_type": "code",
   "execution_count": 0,
   "metadata": {
    "colab": {},
    "colab_type": "code",
    "id": "LUKxBZvYvXxy"
   },
   "outputs": [],
   "source": [
    "\n",
    "# Split a dataset based on an attribute and an attribute value\n",
    "def test_split(index, value, dataset):\n",
    "\tleft, right = list(), list()\n",
    "\tfor row in dataset:\n",
    "\t\tif row[index] < value:\n",
    "\t\t\tleft.append(row)\n",
    "\t\telse:\n",
    "\t\t\tright.append(row)\n",
    "\treturn left, right\n",
    "\n",
    "# Calculate the Gini index for a split dataset\n",
    "def gini_index(groups, classes):\n",
    "\t# count all samples at split point\n",
    "\tn_instances = float(sum([len(group) for group in groups]))\n",
    "\t# sum weighted Gini index for each group\n",
    "\tgini = 0.0\n",
    "\tfor group in groups:\n",
    "\t\tsize = float(len(group))\n",
    "\t\t# avoid divide by zero\n",
    "\t\tif size == 0:\n",
    "\t\t\tcontinue\n",
    "\t\tscore = 0.0\n",
    "\t\t# score the group based on the score for each class\n",
    "\t\tfor class_val in classes:\n",
    "\t\t\tp = [row[-1] for row in group].count(class_val) / size\n",
    "\t\t\tscore += p * p\n",
    "\t\t# weight the group score by its relative size\n",
    "\t\tgini += (1.0 - score) * (size / n_instances)\n",
    "\treturn gini\n",
    "\n",
    "\n",
    "\n",
    "    \n",
    "# Select the best split point for a dataset\n",
    "def get_split(dataset, n_features,weights):\n",
    "    class_values = list(set(row[-1] for row in dataset))\n",
    "    classes = [row[-1] for row in dataset]\n",
    "    if len(set(classes)) <2:\n",
    "        leaf = to_terminal(dataset)\n",
    "        return leaf\n",
    "    else: \n",
    "        b_index, b_value, b_score, b_groups = 999, 999, 999, None\n",
    "        df = pd.DataFrame(data = dataset)\n",
    "        df.drop(df.columns[-1],axis=1,inplace=True)\n",
    "        features = df.sample(n=n_features,weights=weights,axis=1).columns  # Weights = None: results in equal probability weighting\n",
    "        for index in features:\n",
    "            for row in dataset:\n",
    "                groups = test_split(index, row[index], dataset)\n",
    "                gini = gini_index(groups, class_values)\n",
    "                if gini < b_score:\n",
    "                    b_index, b_value, b_score, b_groups = index,row[index],gini,groups                \n",
    "        return {'index':b_index, 'value':b_value, 'gini':b_score, 'groups':b_groups} "
   ]
  },
  {
   "cell_type": "code",
   "execution_count": 0,
   "metadata": {
    "colab": {},
    "colab_type": "code",
    "id": "HvSu5pWuvXx-"
   },
   "outputs": [],
   "source": [
    "# Create a terminal node value   #returns either 0 or 1 \n",
    "\n",
    "def to_terminal(group):\n",
    "    global leaf\n",
    "    leaf+=1\n",
    "    outcomes = [row[-1] for row in group]    \n",
    "    return (max(set(outcomes), key=outcomes.count),leaf)\n",
    "    \n",
    "\n",
    "# Create child splits for a node or make terminal\n",
    "def split(node, max_depth, min_size, n_features, depth, weights):\n",
    "    left, right = node['groups']\n",
    "    del(node['groups'])   \n",
    "    # check for a no split\n",
    "    if not left or not right:\n",
    "        node['left'] = node['right'] = to_terminal(left + right)  \n",
    "        return\n",
    "    # check for max depth\n",
    "    if depth >= max_depth:\n",
    "        node['left'], node['right'] = to_terminal(left), to_terminal(right)\n",
    "        return\n",
    "    # process left child\n",
    "    if len(left) <= min_size:\n",
    "        node['left'] = to_terminal(left)\n",
    "    else:\n",
    "        node['left'] = get_split(left, n_features,weights) \n",
    "        if isinstance(node['left'],tuple):\n",
    "            node['left'] = node['left']\n",
    "        else:\n",
    "            split(node['left'], max_depth, min_size, n_features, depth+1,weights)\n",
    "    # process right child\n",
    "    if len(right) <= min_size:\n",
    "        node['right'] = to_terminal(right)\n",
    "    else:\n",
    "        node['right'] = get_split(right, n_features,weights) \n",
    "        if isinstance(node['right'],tuple):\n",
    "            node['right'] = node['right']\n",
    "        else:\n",
    "            split(node['right'], max_depth, min_size, n_features, depth+1,weights)"
   ]
  },
  {
   "cell_type": "code",
   "execution_count": 0,
   "metadata": {
    "colab": {},
    "colab_type": "code",
    "id": "ECEZXSzMvXyE"
   },
   "outputs": [],
   "source": [
    "# builds the tree \n",
    "\n",
    "def build_tree(train, max_depth, min_size, n_features,weights):\n",
    "\troot = get_split(train, n_features,weights)  \n",
    "\tsplit(root, max_depth, min_size, n_features, 1,weights)  \n",
    "\treturn root"
   ]
  },
  {
   "cell_type": "code",
   "execution_count": 0,
   "metadata": {
    "colab": {},
    "colab_type": "code",
    "id": "t5sEg-uivXyI"
   },
   "outputs": [],
   "source": [
    "# Print a decision tree\n",
    "def print_tree(node, depth=0):\n",
    "\tif isinstance(node, dict):\n",
    "\t\tprint('%s[X%d < %.3f]' % ((depth*' ', (node['index']+1), node['value'])))\n",
    "\t\tprint_tree(node['left'], depth+1)\n",
    "\t\tprint_tree(node['right'], depth+1)\n",
    "\telse:\n",
    "\t\tprint('%s%s' % ((depth*' ', node)))"
   ]
  },
  {
   "cell_type": "code",
   "execution_count": 0,
   "metadata": {
    "colab": {},
    "colab_type": "code",
    "id": "y7R-Y_RuvXyN"
   },
   "outputs": [],
   "source": [
    "# Make a prediction with a decision tree\n",
    "def predict(node, row):   \n",
    "\tif row[node['index']] < node['value']: \n",
    "                                             \n",
    "\t\tif isinstance(node['left'], dict):  \n",
    "\t\t\treturn predict(node['left'], row)  \n",
    "\t\telse:                                   \n",
    "\t\t\treturn node['left']\n",
    "\telse:                                        \n",
    "\t\tif isinstance(node['right'], dict):\n",
    "\t\t\treturn predict(node['right'], row)\n",
    "\t\telse:\n",
    "\t\t\treturn node['right']"
   ]
  },
  {
   "cell_type": "code",
   "execution_count": 0,
   "metadata": {
    "colab": {},
    "colab_type": "code",
    "id": "n83aAwG2vXyS"
   },
   "outputs": [],
   "source": [
    "def apply(tree,X):\n",
    "    indexes = list()\n",
    "    for row in X:\n",
    "        indexes.append(predict(tree,row)[1])\n",
    "    return indexes\n",
    "    \n"
   ]
  },
  {
   "cell_type": "code",
   "execution_count": 0,
   "metadata": {
    "colab": {},
    "colab_type": "code",
    "id": "YPHdC2yRvXyX"
   },
   "outputs": [],
   "source": [
    "def subsample(dataset, ratio):\n",
    "    sample = list()   \n",
    "    n_sample = round(len(dataset) * ratio)\n",
    "    sample_indexes = list()\n",
    "    while len(sample) < n_sample:\n",
    "        index = random.randrange(len(dataset))\n",
    "        sample_indexes.append(index)\n",
    "        sample.append(dataset[index])\n",
    "    s_ind = list(dict.fromkeys(sample_indexes))\n",
    "    oob_indexes = list()\n",
    "    for index in range(len(dataset)):\n",
    "        if index not in s_ind:\n",
    "            oob_indexes.append(index)\n",
    "    return [sample,oob_indexes]"
   ]
  },
  {
   "cell_type": "code",
   "execution_count": 0,
   "metadata": {
    "colab": {},
    "colab_type": "code",
    "id": "OVQzZPGh4k7B"
   },
   "outputs": [],
   "source": [
    "def sum_gini(node):  \n",
    "  global gini_sum\n",
    "  gini_sum[node['index']] += node['gini']\n",
    "  if isinstance(node['left'], dict):\n",
    "    sum_gini(node['left'])\n",
    "  if isinstance(node['right'], dict):\n",
    "    sum_gini(node['right'])"
   ]
  },
  {
   "cell_type": "code",
   "execution_count": 0,
   "metadata": {
    "colab": {},
    "colab_type": "code",
    "id": "Tm51fMZbvXyb"
   },
   "outputs": [],
   "source": [
    "def get_indexes(train,X_apply,n_trees,max_depth,min_size,n_features,weights,oob = True):\n",
    "    trees = list()\n",
    "    oob_indexes = list()\n",
    "    for i in range(n_trees):\n",
    "        sample = subsample(train,1)\n",
    "        oob_indexes.append(sample[1]) \n",
    "        global leaf\n",
    "        leaf = 0\n",
    "        tree = build_tree(sample[0],max_depth, min_size,n_features,weights)\n",
    "        trees.append(tree)\n",
    "    leaf_indexes = list()\n",
    "    for tree in trees:\n",
    "        leaf_indexes.append(apply(tree,X_apply))\n",
    "    leaf_indexes = np.asarray(leaf_indexes)\n",
    "    global gini_sum \n",
    "    gini_sum = list()\n",
    "    for i in range(len(train[0])-1):\n",
    "        gini_sum.append(0)\n",
    "    for tree in trees:\n",
    "        sum_gini(tree)\n",
    "    gini_sum [:] = [x / n_trees for x in gini_sum]    \n",
    "    if oob:\n",
    "        #compute the oobscore \n",
    "        return [leaf_indexes,trees,oob_indexes,gini_sum]\n",
    "    else:\n",
    "        return [leaf_indexes,gini_sum]"
   ]
  },
  {
   "cell_type": "code",
   "execution_count": 0,
   "metadata": {
    "colab": {},
    "colab_type": "code",
    "id": "6nV8JRkUvXyf"
   },
   "outputs": [],
   "source": [
    "def oob_score(trees,oob_indexes,dataset):\n",
    "    oob_predictions = list()\n",
    "    for i in range(len(trees)):\n",
    "        for index in oob_indexes[i]:\n",
    "            oob_predictions.append((index,predict(trees[i],dataset[index])[0]))\n",
    "    \n",
    "    row_indexes = list()\n",
    "    for i in range(len(oob_predictions)):\n",
    "        row_indexes.append(oob_predictions[i][0])\n",
    "    unique_row_indexes = set(row_indexes)\n",
    "\n",
    "    # create a list with all the predictions for every row \n",
    "    main = list()\n",
    "    for index in unique_row_indexes:\n",
    "        l = list()\n",
    "        l.append([index])\n",
    "        r = list()\n",
    "        for i in range(len(oob_predictions)):\n",
    "            if index == oob_predictions[i][0]:\n",
    "                r.append(oob_predictions[i][1])\n",
    "        l.append(r)\n",
    "        main.append(l)\n",
    "    \n",
    "    outcomes = [row[-1] for row in dataset]\n",
    "    accuracy = list()\n",
    "    for i in range(len(main)):\n",
    "        if max(set(main[i][1]), key=main[i][1].count) == outcomes[main[i][0][0]]:\n",
    "            accuracy.append(True)\n",
    "        else:\n",
    "            accuracy.append(False)\n",
    "        \n",
    "    c = Counter(accuracy)\n",
    "    oob_score = dict(c)[True] / sum(c.values())\n",
    "            \n",
    "    return oob_score"
   ]
  },
  {
   "cell_type": "code",
   "execution_count": 0,
   "metadata": {
    "colab": {},
    "colab_type": "code",
    "id": "NlwDkxi7vXyk"
   },
   "outputs": [],
   "source": [
    "def proxmat(terminals):\n",
    "    nTrees = terminals.shape[0]\n",
    "\n",
    "    a = terminals[0]\n",
    "    proxMat = 1*np.equal.outer(a, a)\n",
    "\n",
    "    for i in range(1, nTrees):\n",
    "        a = terminals[i]\n",
    "        proxMat += 1*np.equal.outer(a, a)\n",
    "\n",
    "    proxMat = proxMat / nTrees\n",
    "    \n",
    "    return proxMat "
   ]
  },
  {
   "cell_type": "code",
   "execution_count": 0,
   "metadata": {
    "colab": {},
    "colab_type": "code",
    "id": "iOyGEZvKvXyn"
   },
   "outputs": [],
   "source": [
    "def get_proximity_matrix(train,X_apply,n_trees,max_depth,min_size,n_features,weights,oob):\n",
    "    \n",
    "    \"\"\" Weights = ‘None’ results in equal probability weighting. If passed a Series, will align with target object on index. \n",
    "        Index values in weights not found in sampled object will be ignored and index values in sampled object not in weights\n",
    "        will be assigned weights of zero. Unless weights are a Series, weights must be same length as axis being sampled. \n",
    "        If weights do not sum to 1, they will be normalized to sum to 1. \n",
    "        Missing values in the weights column will be treated as zero. Infinite values not allowed.\n",
    "        \n",
    "        oob: True or False\n",
    "        \"\"\"\n",
    "    terminals = get_indexes(train,X_apply,n_trees,max_depth,min_size,n_features,weights,oob)\n",
    "    proximity_mat = proxmat(terminals[0])\n",
    "    if oob == True:\n",
    "        oob_sc = oob_score(terminals[1],terminals[2],train)\n",
    "        return [proximity_mat,oob_sc,terminals[3]]\n",
    "    else:\n",
    "        return [proximity_mat,terminals[1]] "
   ]
  },
  {
   "cell_type": "code",
   "execution_count": 0,
   "metadata": {
    "colab": {},
    "colab_type": "code",
    "id": "IdzXan3ier4f"
   },
   "outputs": [],
   "source": [
    "def colorize(dataframe):\n",
    "    dataframe['colors'] = 0\n",
    "    for i in range(len(dataframe)):\n",
    "        if dataframe.iloc[i,-2] == 1:\n",
    "            dataframe.iloc[i,-1] = '#000000' #black\n",
    "        if dataframe.iloc[i,-2] == 2:\n",
    "            dataframe.iloc[i,-1] = '#e04242' #red\n",
    "        if dataframe.iloc[i,-2] == 3:\n",
    "            dataframe.iloc[i,-1] = '#42e05d' #green\n",
    "        if dataframe.iloc[i,-2] == 4:\n",
    "            dataframe.iloc[i,-1] = '#35aede' #blue \n",
    "    colors = dataframe['colors']\n",
    "    dataframe.drop('colors',axis=1,inplace=True)\n",
    "    dataframe.drop('cluster',axis=1,inplace=True)\n",
    "    return colors\n",
    "        "
   ]
  },
  {
   "cell_type": "markdown",
   "metadata": {
    "colab_type": "text",
    "id": "HABcoh26G82c"
   },
   "source": [
    "## Data Generating Process (DGP) <a name=\"DGPs\"></a> "
   ]
  },
  {
   "cell_type": "markdown",
   "metadata": {
    "colab_type": "text",
    "id": "pyFpOPtKQKh1"
   },
   "source": [
    "### Ex2\n",
    "\n",
    "In this Section, the code for the DGP called Ex2 is defined. There are 9 variables, 400 observations, each 100 coming from one of four true clusters. There are 2 groups of signal variables. The first ones are $X_1$, $X_2$, $X_7-X_9$, which are different for pairs of clusters (1,2) and (3,4). The second ones are $X_3$ and $X_4$, which are different for pairs of clusters (1,3) and (2,4), producing a division inside the clusters (according to the first signal group). Variables $X_5$ and $X_6$ are created as noise. The DGP is summarized in the following Table. \n",
    "\n",
    "| Cluster\\Variables  | $X_1 - X_2$ | $X_3$ | $X_4$    | $X_5 - X_6$ | $X_7 - X_9$  |\n",
    "|--------------------|-------------|-------|----------|-------------|--------------|\n",
    "| 1 (black)          | $U(0.8,1)$  | $0$   | $U(1,2)$ | $N(0,1)$    | R. P. ($X1$) |\n",
    "| 2 (red)            | $U(0.8,1)$  | $1$   | $U(2,3)$ | $N(0,1)$    | R. P. ($X1$) |\n",
    "| 3 (green)          | $U(0,0.8)$  | $0$   | $U(1,2)$ | $N(0,1)$    | R. P. ($X1$) |\n",
    "| 4 (blue)           | $U(0,0.8)$  | $1$   | $U(2,3)$ | $N(0,1)$    | R. P. ($X1$) |  \n",
    "\n",
    "where $N(\\mu,\\sigma^2)$ is a Normal distribution with the mean $\\mu$ and the variance $\\sigma^2$; $U(a,b)$ is the uniform distribution;\n",
    "R. P. denotes Random Permutation. \n",
    "\n",
    "Thereafter, the observations are colored according to their cluster affiliation as in Table.\n",
    "\n",
    "The correlation map is also calculated and plotted below. "
   ]
  },
  {
   "cell_type": "code",
   "execution_count": 0,
   "metadata": {
    "colab": {},
    "colab_type": "code",
    "id": "dShOZkWR0k13"
   },
   "outputs": [],
   "source": [
    "\n",
    "# Creating clusters with 100 samples and 9 features for each cluster\n",
    "\n",
    "columns = ['X1','X2','X3','X4','X5','X6','X7','X8','X9']\n",
    "X_1st = np.random.uniform(0.8,1,size=(100,1))\n",
    "X_1st_1 = np.random.uniform(0.8,1,size=(100,1))\n",
    "X_2nd = np.random.uniform(0,0.8,size=(100,1))\n",
    "X_2nd_1 = np.random.uniform(0,0.8,size=(100,1))\n",
    "\n",
    "\n",
    "\n",
    "\n",
    "cluster_1 = pd.DataFrame(np.concatenate((X_1st, np.random.uniform(0.8,1,size=(100,1)),\n",
    "                                         np.random.choice([0], size=(100,1)),\n",
    "                                         np.random.uniform(1,2,size=(100,1)),\n",
    "                                         np.random.normal(0,1,(100,1)),\n",
    "                                         np.random.normal(0,1,(100,1)),\n",
    "                                         np.random.permutation(X_1st), np.random.permutation(X_1st),\n",
    "                                         np.random.permutation(X_1st)),\n",
    "                                         axis=1),\n",
    "                                         columns=columns) \n",
    "cluster_1['cluster'] = 1\n",
    "\n",
    "cluster_2 = pd.DataFrame(np.concatenate((X_1st_1, np.random.uniform(0.8,1,size=(100,1)),\n",
    "                                         np.random.choice([1], size=(100,1)),\n",
    "                                         np.random.uniform(2,3,size=(100,1)),\n",
    "                                         np.random.normal(0,1,(100,1)),\n",
    "                                         np.random.normal(0,1,(100,1)), np.random.permutation(X_1st_1),\n",
    "                                         np.random.permutation(X_1st_1),np.random.permutation(X_1st_1)),\n",
    "                                         axis=1),\n",
    "                                         columns=columns) \n",
    "cluster_2['cluster'] = 2\n",
    "\n",
    "\n",
    "\n",
    "\n",
    "cluster_3 = pd.DataFrame(np.concatenate((X_2nd, np.random.uniform(0,0.8,size=(100,1)),\n",
    "                                         np.random.choice([0], size=(100,1)),\n",
    "                                         np.random.uniform(1,2,size=(100,1)),\n",
    "                                         np.random.normal(0,1,(100,1)), np.random.normal(0,1,(100,1)),\n",
    "                                         np.random.permutation(X_2nd),\n",
    "                                         np.random.permutation(X_2nd),np.random.permutation(X_2nd)),\n",
    "                                         axis=1),\n",
    "                                         columns=columns)  \n",
    "cluster_3['cluster'] = 3\n",
    "\n",
    "cluster_4 = pd.DataFrame(np.concatenate((X_2nd_1, np.random.uniform(0,0.8,size=(100,1)),\n",
    "                                         np.random.choice([1], size=(100,1)),\n",
    "                                         np.random.uniform(2,3,size=(100,1)),\n",
    "                                         np.random.normal(0,1,(100,1)), np.random.normal(0,1,(100,1)),\n",
    "                                         np.random.permutation(X_2nd_1),np.random.permutation(X_2nd_1),\n",
    "                                         np.random.permutation(X_2nd_1)),\n",
    "                                         axis=1),\n",
    "                                         columns=columns)  \n",
    "cluster_4['cluster'] = 4\n",
    "\n",
    "\n",
    "\n",
    "Ex2 = pd.concat([cluster_1,cluster_2,cluster_3,cluster_4],ignore_index=True) \n",
    "Ex2_clust = Ex2['cluster']\n",
    "\n",
    "#Ex2.drop('cluster',axis=1,inplace=True)"
   ]
  },
  {
   "cell_type": "code",
   "execution_count": 0,
   "metadata": {
    "colab": {},
    "colab_type": "code",
    "id": "3JTNlCtxzTna"
   },
   "outputs": [],
   "source": [
    "colors = colorize(Ex2)"
   ]
  },
  {
   "cell_type": "code",
   "execution_count": 111,
   "metadata": {
    "colab": {
     "base_uri": "https://localhost:8080/",
     "height": 258
    },
    "colab_type": "code",
    "executionInfo": {
     "elapsed": 1677,
     "status": "ok",
     "timestamp": 1586095032842,
     "user": {
      "displayName": "Arkadiy Davidyan",
      "photoUrl": "https://lh4.googleusercontent.com/-ClHzNWpT_6E/AAAAAAAAAAI/AAAAAAAAAUc/7thHljuT3Pc/s64/photo.jpg",
      "userId": "00493985683429285984"
     },
     "user_tz": -120
    },
    "id": "qZ8CEZvMSvoG",
    "outputId": "741cb8e5-5189-4965-a222-e40e35a754f4"
   },
   "outputs": [
    {
     "data": {
      "image/png": "[encoded data removed]",
      "text/plain": [
       "<Figure size 288x288 with 2 Axes>"
      ]
     },
     "metadata": {
      "tags": []
     },
     "output_type": "display_data"
    }
   ],
   "source": [
    "# correlation map\n",
    "\n",
    "plt.matshow(Ex2.corr())\n",
    "plt.xticks(range(len(Ex2.columns)), Ex2.columns)\n",
    "plt.yticks(range(len(Ex2.columns)), Ex2.columns)\n",
    "plt.colorbar()\n",
    "plt.show()"
   ]
  },
  {
   "cell_type": "markdown",
   "metadata": {
    "colab_type": "text",
    "id": "IaC3Up52_MY0"
   },
   "source": [
    "## Random Forest Proximities <a name=\"prox\"></a> \n",
    "\n",
    "In this Section, proximity and dissimilarity matrices for Uniform and Non-Uniform Random Forests are computed and visualized with the help of the Multidimensional Scaling (MDS) algorithm. Points are colored according to their true cluster affiliation. Also, the Variable Importance Measure (VIM) is computed during the construction of Random Forests and plotted below.  "
   ]
  },
  {
   "cell_type": "code",
   "execution_count": 0,
   "metadata": {
    "colab": {},
    "colab_type": "code",
    "id": "LmXu7r7G58Bb"
   },
   "outputs": [],
   "source": [
    "data = add_synthetic(Ex2)\n",
    "X_train = transform_dataset(data)\n",
    "X_apply = transform_dataset(Ex2)"
   ]
  },
  {
   "cell_type": "markdown",
   "metadata": {
    "colab_type": "text",
    "id": "CH65aoYBbXFg"
   },
   "source": [
    "### Uniform"
   ]
  },
  {
   "cell_type": "code",
   "execution_count": 0,
   "metadata": {
    "colab": {},
    "colab_type": "code",
    "id": "-BwaAY4yvXzj"
   },
   "outputs": [],
   "source": [
    "uniform_proximity = get_proximity_matrix(X_train,X_apply,100,3000,2,3, \n",
    "                              weights = None\n",
    "                              ,oob = False)"
   ]
  },
  {
   "cell_type": "code",
   "execution_count": 0,
   "metadata": {
    "colab": {},
    "colab_type": "code",
    "id": "PRtb1a3qvXzr"
   },
   "outputs": [],
   "source": [
    "uniform_dissimilarity = 1 - uniform_proximity[0]"
   ]
  },
  {
   "cell_type": "code",
   "execution_count": 115,
   "metadata": {
    "colab": {
     "base_uri": "https://localhost:8080/",
     "height": 298
    },
    "colab_type": "code",
    "executionInfo": {
     "elapsed": 186036,
     "status": "ok",
     "timestamp": 1586095223465,
     "user": {
      "displayName": "Arkadiy Davidyan",
      "photoUrl": "https://lh4.googleusercontent.com/-ClHzNWpT_6E/AAAAAAAAAAI/AAAAAAAAAUc/7thHljuT3Pc/s64/photo.jpg",
      "userId": "00493985683429285984"
     },
     "user_tz": -120
    },
    "id": "1Khkif0qvXzv",
    "outputId": "39af19b8-23e0-4275-e87f-0ab1e41a6d83"
   },
   "outputs": [
    {
     "data": {
      "text/plain": [
       "Text(0.5, 1.0, 'Uniform RF dissimilarity')"
      ]
     },
     "execution_count": 115,
     "metadata": {
      "tags": []
     },
     "output_type": "execute_result"
    },
    {
     "data": {
      "image/png": "[encoded data removed]",
      "text/plain": [
       "<Figure size 432x288 with 1 Axes>"
      ]
     },
     "metadata": {
      "tags": []
     },
     "output_type": "display_data"
    }
   ],
   "source": [
    "out = model.fit_transform(uniform_dissimilarity)\n",
    "plt.scatter(out[:, 0], out[:, 1], c = colors,alpha=1)\n",
    "plt.axis('equal');\n",
    "plt.title('Uniform RF dissimilarity')"
   ]
  },
  {
   "cell_type": "markdown",
   "metadata": {
    "colab_type": "text",
    "id": "LMD0JJR3O5Lc"
   },
   "source": [
    "\n",
    "As can be observed, the RF dissimilarity easily finds the distinction between points from different pairs of clusters, namely (1,2) and (3,4). Red and black points form a definite cloud of points, while green and blue points form another specific cloud. However, the uniform procedure has difficulties with revealing the division inside the respective pairs of clusters, which would potentially lead to poor clustering results, since there are four true clusters."
   ]
  },
  {
   "cell_type": "markdown",
   "metadata": {
    "colab_type": "text",
    "id": "QqNHg6nIHMLV"
   },
   "source": [
    "#### Variable importance measure chart "
   ]
  },
  {
   "cell_type": "code",
   "execution_count": 116,
   "metadata": {
    "colab": {
     "base_uri": "https://localhost:8080/",
     "height": 312
    },
    "colab_type": "code",
    "executionInfo": {
     "elapsed": 472,
     "status": "ok",
     "timestamp": 1586095324058,
     "user": {
      "displayName": "Arkadiy Davidyan",
      "photoUrl": "https://lh4.googleusercontent.com/-ClHzNWpT_6E/AAAAAAAAAAI/AAAAAAAAAUc/7thHljuT3Pc/s64/photo.jpg",
      "userId": "00493985683429285984"
     },
     "user_tz": -120
    },
    "id": "YiYnX1wsFmkg",
    "outputId": "adb16000-1b86-4d08-af2b-333adfa770eb"
   },
   "outputs": [
    {
     "data": {
      "text/plain": [
       "Text(0.5, 1.0, 'VIMs plotted for Uniform RF')"
      ]
     },
     "execution_count": 116,
     "metadata": {
      "tags": []
     },
     "output_type": "execute_result"
    },
    {
     "data": {
      "image/png": "[encoded data removed]",
      "text/plain": [
       "<Figure size 432x288 with 1 Axes>"
      ]
     },
     "metadata": {
      "tags": []
     },
     "output_type": "display_data"
    }
   ],
   "source": [
    "\n",
    "plt.scatter(range(1,len(uniform_proximity[1])+1),uniform_proximity[1])\n",
    "plt.xticks(range(1,len(uniform_proximity[1])+1))\n",
    "plt.xlabel('Feature')\n",
    "plt.ylabel('Gini Importance measure')\n",
    "plt.title('VIMs plotted for Uniform RF')"
   ]
  },
  {
   "cell_type": "markdown",
   "metadata": {
    "colab_type": "text",
    "id": "cbNAN153mVPd"
   },
   "source": [
    "### Non-Uniform"
   ]
  },
  {
   "cell_type": "code",
   "execution_count": 0,
   "metadata": {
    "colab": {},
    "colab_type": "code",
    "id": "wCpoj4rBmXuH"
   },
   "outputs": [],
   "source": [
    "non_uniform_proximity = get_proximity_matrix(X_train,X_apply,100,3000,2,3, \n",
    "                              weights = [0.05,0.05,0.325,0.325,0.05,0.05,0.05,0.05,0.05]                      \n",
    "                              ,oob = False)\n",
    "non_uniform_dissimilarity = 1 - non_uniform_proximity[0]"
   ]
  },
  {
   "cell_type": "code",
   "execution_count": 118,
   "metadata": {
    "colab": {
     "base_uri": "https://localhost:8080/",
     "height": 298
    },
    "colab_type": "code",
    "executionInfo": {
     "elapsed": 212502,
     "status": "ok",
     "timestamp": 1586095541015,
     "user": {
      "displayName": "Arkadiy Davidyan",
      "photoUrl": "https://lh4.googleusercontent.com/-ClHzNWpT_6E/AAAAAAAAAAI/AAAAAAAAAUc/7thHljuT3Pc/s64/photo.jpg",
      "userId": "00493985683429285984"
     },
     "user_tz": -120
    },
    "id": "SFqulDEimrN6",
    "outputId": "1e3c34c1-22fe-4986-d68d-569873a24cd8"
   },
   "outputs": [
    {
     "data": {
      "text/plain": [
       "Text(0.5, 1.0, 'Non-Uniform RF dissimilarity')"
      ]
     },
     "execution_count": 118,
     "metadata": {
      "tags": []
     },
     "output_type": "execute_result"
    },
    {
     "data": {
      "image/png": "[encoded data removed]",
      "text/plain": [
       "<Figure size 432x288 with 1 Axes>"
      ]
     },
     "metadata": {
      "tags": []
     },
     "output_type": "display_data"
    }
   ],
   "source": [
    "out_1 = model.fit_transform(non_uniform_dissimilarity)\n",
    "plt.scatter(out_1[:, 0], out_1[:, 1], c = colors,alpha=1)\n",
    "plt.axis('equal');\n",
    "plt.title('Non-Uniform RF dissimilarity')"
   ]
  },
  {
   "cell_type": "markdown",
   "metadata": {
    "colab_type": "text",
    "id": "Cvi7qNRGO8xl"
   },
   "source": [
    "\n",
    "\n",
    "We can see that the NURF dissimilarities have yielded more distinct separation of points than the RF procedure on the MDS plot, which can potentially lead to a better quality of clustering.    \n"
   ]
  },
  {
   "cell_type": "markdown",
   "metadata": {
    "colab_type": "text",
    "id": "PCrOMC3_nHeZ"
   },
   "source": [
    "#### Variable importance measure chart "
   ]
  },
  {
   "cell_type": "code",
   "execution_count": 119,
   "metadata": {
    "colab": {
     "base_uri": "https://localhost:8080/",
     "height": 312
    },
    "colab_type": "code",
    "executionInfo": {
     "elapsed": 455,
     "status": "ok",
     "timestamp": 1586095554084,
     "user": {
      "displayName": "Arkadiy Davidyan",
      "photoUrl": "https://lh4.googleusercontent.com/-ClHzNWpT_6E/AAAAAAAAAAI/AAAAAAAAAUc/7thHljuT3Pc/s64/photo.jpg",
      "userId": "00493985683429285984"
     },
     "user_tz": -120
    },
    "id": "sODcOONjm9WZ",
    "outputId": "97880db1-f253-4b66-98c7-7e0133696042"
   },
   "outputs": [
    {
     "data": {
      "text/plain": [
       "Text(0.5, 1.0, 'VIMs plotted for Non-Uniform RF')"
      ]
     },
     "execution_count": 119,
     "metadata": {
      "tags": []
     },
     "output_type": "execute_result"
    },
    {
     "data": {
      "image/png": "[encoded data removed]",
      "text/plain": [
       "<Figure size 432x288 with 1 Axes>"
      ]
     },
     "metadata": {
      "tags": []
     },
     "output_type": "display_data"
    }
   ],
   "source": [
    "\n",
    "plt.scatter(range(1,len(non_uniform_proximity[1])+1),non_uniform_proximity[1])\n",
    "plt.xticks(range(1,len(non_uniform_proximity[1])+1))\n",
    "plt.xlabel('Feature')\n",
    "plt.ylabel('Gini Importance measure')\n",
    "plt.title('VIMs plotted for Non-Uniform RF')"
   ]
  },
  {
   "cell_type": "markdown",
   "metadata": {
    "colab_type": "text",
    "id": "aD18KtJf8Ru6"
   },
   "source": [
    "## Clustering <a name=\"clustering\"></a> \n",
    "\n",
    "In this section, the proximity/dissimilarity measures produced by uniform and non-uniform Random Forests are processed with clustering algorithms in order to finally perform partitioning.\n",
    "The results are visualized on MDS plots, where the markers denote the cluster assignment of the respective algorithm, the colors denote the true cluster affiliation. The quality of partitioning is evaluated with ARI. \n"
   ]
  },
  {
   "cell_type": "markdown",
   "metadata": {
    "colab_type": "text",
    "id": "sDFWjeFO-IvA"
   },
   "source": [
    "### Spectral Clustering"
   ]
  },
  {
   "cell_type": "markdown",
   "metadata": {
    "colab_type": "text",
    "id": "exryKiP1nTP9"
   },
   "source": [
    "#### Uniform"
   ]
  },
  {
   "cell_type": "code",
   "execution_count": 0,
   "metadata": {
    "colab": {},
    "colab_type": "code",
    "id": "NNtn-FVr-O1i"
   },
   "outputs": [],
   "source": [
    "spectral = SpectralClustering(n_clusters = 4,affinity = 'precomputed', n_init=20)\n",
    "spectral_clusters = spectral.fit_predict(uniform_proximity[0])"
   ]
  },
  {
   "cell_type": "code",
   "execution_count": 121,
   "metadata": {
    "colab": {
     "base_uri": "https://localhost:8080/",
     "height": 34
    },
    "colab_type": "code",
    "executionInfo": {
     "elapsed": 447,
     "status": "ok",
     "timestamp": 1586095561115,
     "user": {
      "displayName": "Arkadiy Davidyan",
      "photoUrl": "https://lh4.googleusercontent.com/-ClHzNWpT_6E/AAAAAAAAAAI/AAAAAAAAAUc/7thHljuT3Pc/s64/photo.jpg",
      "userId": "00493985683429285984"
     },
     "user_tz": -120
    },
    "id": "wpTzSD9e-k9R",
    "outputId": "4086eca1-6542-4466-bb54-8cbaeb2876d2"
   },
   "outputs": [
    {
     "data": {
      "text/plain": [
       "0.3911892070601223"
      ]
     },
     "execution_count": 121,
     "metadata": {
      "tags": []
     },
     "output_type": "execute_result"
    }
   ],
   "source": [
    "adjusted_rand_score(Ex2_clust,spectral_clusters)"
   ]
  },
  {
   "cell_type": "code",
   "execution_count": 122,
   "metadata": {
    "colab": {
     "base_uri": "https://localhost:8080/",
     "height": 298
    },
    "colab_type": "code",
    "executionInfo": {
     "elapsed": 3160,
     "status": "ok",
     "timestamp": 1586095571534,
     "user": {
      "displayName": "Arkadiy Davidyan",
      "photoUrl": "https://lh4.googleusercontent.com/-ClHzNWpT_6E/AAAAAAAAAAI/AAAAAAAAAUc/7thHljuT3Pc/s64/photo.jpg",
      "userId": "00493985683429285984"
     },
     "user_tz": -120
    },
    "id": "-rIjXz53Tez8",
    "outputId": "d32cca58-3b00-40d5-eef6-4e48dc3c2115"
   },
   "outputs": [
    {
     "data": {
      "text/plain": [
       "Text(0.5, 1.0, 'SC with Uniform RF, ARI = 0.39')"
      ]
     },
     "execution_count": 122,
     "metadata": {
      "tags": []
     },
     "output_type": "execute_result"
    },
    {
     "data": {
      "image/png": "[encoded data removed]",
      "text/plain": [
       "<Figure size 432x288 with 1 Axes>"
      ]
     },
     "metadata": {
      "tags": []
     },
     "output_type": "display_data"
    }
   ],
   "source": [
    "\n",
    "#plt.figure(figsize=(5,5))\n",
    "for i in range(len(spectral_clusters)):\n",
    "    if spectral_clusters[i] == 0:\n",
    "        plt.scatter(out[i,0], out[i,1],s=200, c = colors[i], marker=TextPath((0, 0), '1', size=1000), alpha=1)\n",
    "    if spectral_clusters[i] == 1:\n",
    "        plt.scatter(out[i,0], out[i,1],s=200, c = colors[i], marker=TextPath((0, 0), '2', size=1000), alpha=1)\n",
    "    if spectral_clusters[i] == 2:\n",
    "        plt.scatter(out[i,0], out[i,1],s=200, c = colors[i], marker=TextPath((0, 0), '3', size=1000), alpha=1)\n",
    "    if spectral_clusters[i] == 3:\n",
    "        plt.scatter(out[i,0], out[i,1],s=200, c = colors[i], marker=TextPath((0, 0), '4', size=1000), alpha=1)\n",
    "plt.axis('equal');\n",
    "plt.title('SC with Uniform RF, ARI = 0.39')"
   ]
  },
  {
   "cell_type": "markdown",
   "metadata": {
    "colab_type": "text",
    "id": "4UyJbX6QndHU"
   },
   "source": [
    "#### Non-Uniform"
   ]
  },
  {
   "cell_type": "code",
   "execution_count": 0,
   "metadata": {
    "colab": {},
    "colab_type": "code",
    "id": "-Bck-PqVnf8A"
   },
   "outputs": [],
   "source": [
    "nonu_spectral_clusters = spectral.fit_predict(non_uniform_proximity[0])"
   ]
  },
  {
   "cell_type": "code",
   "execution_count": 124,
   "metadata": {
    "colab": {
     "base_uri": "https://localhost:8080/",
     "height": 34
    },
    "colab_type": "code",
    "executionInfo": {
     "elapsed": 453,
     "status": "ok",
     "timestamp": 1586095575937,
     "user": {
      "displayName": "Arkadiy Davidyan",
      "photoUrl": "https://lh4.googleusercontent.com/-ClHzNWpT_6E/AAAAAAAAAAI/AAAAAAAAAUc/7thHljuT3Pc/s64/photo.jpg",
      "userId": "00493985683429285984"
     },
     "user_tz": -120
    },
    "id": "t90xi_DOnq_B",
    "outputId": "60f7f334-b75c-4c0c-dee3-ec8d8c8b3321"
   },
   "outputs": [
    {
     "data": {
      "text/plain": [
       "1.0"
      ]
     },
     "execution_count": 124,
     "metadata": {
      "tags": []
     },
     "output_type": "execute_result"
    }
   ],
   "source": [
    "adjusted_rand_score(Ex2_clust,nonu_spectral_clusters)"
   ]
  },
  {
   "cell_type": "code",
   "execution_count": 125,
   "metadata": {
    "colab": {
     "base_uri": "https://localhost:8080/",
     "height": 298
    },
    "colab_type": "code",
    "executionInfo": {
     "elapsed": 3301,
     "status": "ok",
     "timestamp": 1586095586018,
     "user": {
      "displayName": "Arkadiy Davidyan",
      "photoUrl": "https://lh4.googleusercontent.com/-ClHzNWpT_6E/AAAAAAAAAAI/AAAAAAAAAUc/7thHljuT3Pc/s64/photo.jpg",
      "userId": "00493985683429285984"
     },
     "user_tz": -120
    },
    "id": "6ZTnLMmJnrQX",
    "outputId": "c017314f-12f6-486b-a62b-820bffdeae82"
   },
   "outputs": [
    {
     "data": {
      "text/plain": [
       "Text(0.5, 1.0, 'SC with Non-Uniform RF, ARI = 1')"
      ]
     },
     "execution_count": 125,
     "metadata": {
      "tags": []
     },
     "output_type": "execute_result"
    },
    {
     "data": {
      "image/png": "[encoded data removed]",
      "text/plain": [
       "<Figure size 432x288 with 1 Axes>"
      ]
     },
     "metadata": {
      "tags": []
     },
     "output_type": "display_data"
    }
   ],
   "source": [
    "\n",
    "#plt.figure(figsize=(5,5))\n",
    "for i in range(len(nonu_spectral_clusters)):\n",
    "    if nonu_spectral_clusters[i] == 0:\n",
    "        plt.scatter(out_1[i,0], out_1[i,1],s=200, c = colors[i], marker=TextPath((0, 0), '1', size=1000), alpha=1)\n",
    "    if nonu_spectral_clusters[i] == 1:\n",
    "        plt.scatter(out_1[i,0], out_1[i,1],s=200, c = colors[i], marker=TextPath((0, 0), '2', size=1000), alpha=1)\n",
    "    if nonu_spectral_clusters[i] == 2:\n",
    "        plt.scatter(out_1[i,0], out_1[i,1],s=200, c = colors[i], marker=TextPath((0, 0), '3', size=1000), alpha=1)\n",
    "    if nonu_spectral_clusters[i] == 3:\n",
    "        plt.scatter(out_1[i,0], out_1[i,1],s=200, c = colors[i], marker=TextPath((0, 0), '4', size=1000), alpha=1)\n",
    "plt.axis('equal');\n",
    "plt.title('SC with Non-Uniform RF, ARI = 1')"
   ]
  },
  {
   "cell_type": "markdown",
   "metadata": {
    "colab_type": "text",
    "id": "fgn_5aQNCqNl"
   },
   "source": [
    "### K-medoids Clustering "
   ]
  },
  {
   "cell_type": "markdown",
   "metadata": {
    "colab_type": "text",
    "id": "RNR1LIIlqBvj"
   },
   "source": [
    "### Uniform"
   ]
  },
  {
   "cell_type": "code",
   "execution_count": 0,
   "metadata": {
    "colab": {},
    "colab_type": "code",
    "id": "GtuuCZNtCrdu"
   },
   "outputs": [],
   "source": [
    "PAM_clusters = kMedoids(uniform_dissimilarity,k=4)"
   ]
  },
  {
   "cell_type": "code",
   "execution_count": 0,
   "metadata": {
    "colab": {},
    "colab_type": "code",
    "id": "1kffqW_eC1Nx"
   },
   "outputs": [],
   "source": [
    "# transforming the output for the quality assessment and visualization\n",
    "\n",
    "cluster_1 = list()\n",
    "cluster_2 = list()\n",
    "cluster_3 = list()\n",
    "cluster_4 = list()\n",
    "\n",
    "for i in range(len(PAM_clusters[1][0])):\n",
    "    cluster_1.append(1)\n",
    "    \n",
    "for i in range(len(PAM_clusters[1][1])):\n",
    "    cluster_2.append(2)\n",
    "\n",
    "for i in range(len(PAM_clusters[1][2])):\n",
    "    cluster_3.append(3)\n",
    "    \n",
    "for i in range(len(PAM_clusters[1][3])):\n",
    "    cluster_4.append(4)\n",
    "    \n",
    "    \n",
    "\n",
    "clust_1_df = pd.DataFrame(cluster_1,index=PAM_clusters[1][0])\n",
    "clust_2_df = pd.DataFrame(cluster_2,index=PAM_clusters[1][1])\n",
    "clust_3_df = pd.DataFrame(cluster_3,index=PAM_clusters[1][2])\n",
    "clust_4_df = pd.DataFrame(cluster_4,index=PAM_clusters[1][3])\n",
    "\n",
    "PAM_clusters = pd.concat([clust_1_df,clust_2_df,clust_3_df,clust_4_df\n",
    "                            ])\n",
    "PAM_clusters.columns = ['cluster']\n",
    "PAM_clusters.sort_index(inplace=True)\n"
   ]
  },
  {
   "cell_type": "code",
   "execution_count": 128,
   "metadata": {
    "colab": {
     "base_uri": "https://localhost:8080/",
     "height": 34
    },
    "colab_type": "code",
    "executionInfo": {
     "elapsed": 467,
     "status": "ok",
     "timestamp": 1586095597504,
     "user": {
      "displayName": "Arkadiy Davidyan",
      "photoUrl": "https://lh4.googleusercontent.com/-ClHzNWpT_6E/AAAAAAAAAAI/AAAAAAAAAUc/7thHljuT3Pc/s64/photo.jpg",
      "userId": "00493985683429285984"
     },
     "user_tz": -120
    },
    "id": "wx1TYOrSC-ai",
    "outputId": "f06cdca6-2a34-464b-abe4-42ad0c537acc"
   },
   "outputs": [
    {
     "data": {
      "text/plain": [
       "0.42230500837471463"
      ]
     },
     "execution_count": 128,
     "metadata": {
      "tags": []
     },
     "output_type": "execute_result"
    }
   ],
   "source": [
    "adjusted_rand_score(Ex2_clust,PAM_clusters['cluster'])"
   ]
  },
  {
   "cell_type": "code",
   "execution_count": 0,
   "metadata": {
    "colab": {},
    "colab_type": "code",
    "id": "omRbiebHDMG2"
   },
   "outputs": [],
   "source": [
    "PAM_clusters_a = np.asarray(list(PAM_clusters['cluster']))"
   ]
  },
  {
   "cell_type": "code",
   "execution_count": 130,
   "metadata": {
    "colab": {
     "base_uri": "https://localhost:8080/",
     "height": 298
    },
    "colab_type": "code",
    "executionInfo": {
     "elapsed": 3522,
     "status": "ok",
     "timestamp": 1586095607604,
     "user": {
      "displayName": "Arkadiy Davidyan",
      "photoUrl": "https://lh4.googleusercontent.com/-ClHzNWpT_6E/AAAAAAAAAAI/AAAAAAAAAUc/7thHljuT3Pc/s64/photo.jpg",
      "userId": "00493985683429285984"
     },
     "user_tz": -120
    },
    "id": "nyGd53v8SX-d",
    "outputId": "ac25d468-abf7-4200-bff6-96037086907e"
   },
   "outputs": [
    {
     "data": {
      "text/plain": [
       "Text(0.5, 1.0, 'PAM with Uniform RF, ARI = 0.42')"
      ]
     },
     "execution_count": 130,
     "metadata": {
      "tags": []
     },
     "output_type": "execute_result"
    },
    {
     "data": {
      "image/png": "[encoded data removed]",
      "text/plain": [
       "<Figure size 432x288 with 1 Axes>"
      ]
     },
     "metadata": {
      "tags": []
     },
     "output_type": "display_data"
    }
   ],
   "source": [
    "#out\n",
    "\n",
    "#plt.figure(figsize=(5,5))\n",
    "for i in range(len(PAM_clusters_a)):\n",
    "    if PAM_clusters_a[i] == 1:\n",
    "        plt.scatter(out[i,0], out[i,1],s=200, c = colors[i], marker=TextPath((0, 0), '1', size=1000), alpha=1)\n",
    "    if PAM_clusters_a[i] == 2:\n",
    "        plt.scatter(out[i,0], out[i,1],s=200, c = colors[i], marker=TextPath((0, 0), '2', size=1000), alpha=1)\n",
    "    if PAM_clusters_a[i] == 3:\n",
    "        plt.scatter(out[i,0], out[i,1],s=200, c = colors[i], marker=TextPath((0, 0), '3', size=1000), alpha=1)\n",
    "    if PAM_clusters_a[i] == 4:\n",
    "        plt.scatter(out[i,0], out[i,1],s=200, c = colors[i], marker=TextPath((0, 0), '4', size=1000), alpha=1)\n",
    "plt.axis('equal');\n",
    "plt.title('PAM with Uniform RF, ARI = 0.42')"
   ]
  },
  {
   "cell_type": "markdown",
   "metadata": {
    "colab_type": "text",
    "id": "kHNbAYDxp6B9"
   },
   "source": [
    "### Non-Uniform "
   ]
  },
  {
   "cell_type": "code",
   "execution_count": 0,
   "metadata": {
    "colab": {},
    "colab_type": "code",
    "id": "jIAfyXR4qY0_"
   },
   "outputs": [],
   "source": [
    "nonu_PAM_clusters = kMedoids(non_uniform_dissimilarity,k=4)"
   ]
  },
  {
   "cell_type": "code",
   "execution_count": 0,
   "metadata": {
    "colab": {},
    "colab_type": "code",
    "id": "EASreBi5qdwS"
   },
   "outputs": [],
   "source": [
    "# transforming the output for the quality assessment and visualization\n",
    "\n",
    "cluster_1 = list()\n",
    "cluster_2 = list()\n",
    "cluster_3 = list()\n",
    "cluster_4 = list()\n",
    "\n",
    "for i in range(len(nonu_PAM_clusters[1][0])):\n",
    "    cluster_1.append(1)\n",
    "    \n",
    "for i in range(len(nonu_PAM_clusters[1][1])):\n",
    "    cluster_2.append(2)\n",
    "\n",
    "for i in range(len(nonu_PAM_clusters[1][2])):\n",
    "    cluster_3.append(3)\n",
    "    \n",
    "for i in range(len(nonu_PAM_clusters[1][3])):\n",
    "    cluster_4.append(4)\n",
    "    \n",
    "    \n",
    "\n",
    "clust_1_df = pd.DataFrame(cluster_1,index=nonu_PAM_clusters[1][0])\n",
    "clust_2_df = pd.DataFrame(cluster_2,index=nonu_PAM_clusters[1][1])\n",
    "clust_3_df = pd.DataFrame(cluster_3,index=nonu_PAM_clusters[1][2])\n",
    "clust_4_df = pd.DataFrame(cluster_4,index=nonu_PAM_clusters[1][3])\n",
    "\n",
    "nonu_PAM_clusters = pd.concat([clust_1_df,clust_2_df,clust_3_df,clust_4_df\n",
    "                            ])\n",
    "nonu_PAM_clusters.columns = ['cluster']\n",
    "nonu_PAM_clusters.sort_index(inplace=True)\n",
    "nonu_PAM_clusters_a = np.asarray(list(nonu_PAM_clusters['cluster']))\n"
   ]
  },
  {
   "cell_type": "code",
   "execution_count": 133,
   "metadata": {
    "colab": {
     "base_uri": "https://localhost:8080/",
     "height": 34
    },
    "colab_type": "code",
    "executionInfo": {
     "elapsed": 395,
     "status": "ok",
     "timestamp": 1586095613744,
     "user": {
      "displayName": "Arkadiy Davidyan",
      "photoUrl": "https://lh4.googleusercontent.com/-ClHzNWpT_6E/AAAAAAAAAAI/AAAAAAAAAUc/7thHljuT3Pc/s64/photo.jpg",
      "userId": "00493985683429285984"
     },
     "user_tz": -120
    },
    "id": "P6C0f8IRqtfM",
    "outputId": "6dff3729-5c47-4b44-c95b-ba7236009b2a"
   },
   "outputs": [
    {
     "data": {
      "text/plain": [
       "0.9410697798539766"
      ]
     },
     "execution_count": 133,
     "metadata": {
      "tags": []
     },
     "output_type": "execute_result"
    }
   ],
   "source": [
    "adjusted_rand_score(Ex2_clust,nonu_PAM_clusters['cluster'])"
   ]
  },
  {
   "cell_type": "code",
   "execution_count": 134,
   "metadata": {
    "colab": {
     "base_uri": "https://localhost:8080/",
     "height": 298
    },
    "colab_type": "code",
    "executionInfo": {
     "elapsed": 2868,
     "status": "ok",
     "timestamp": 1586095623191,
     "user": {
      "displayName": "Arkadiy Davidyan",
      "photoUrl": "https://lh4.googleusercontent.com/-ClHzNWpT_6E/AAAAAAAAAAI/AAAAAAAAAUc/7thHljuT3Pc/s64/photo.jpg",
      "userId": "00493985683429285984"
     },
     "user_tz": -120
    },
    "id": "4e-8OKGcrj6n",
    "outputId": "011e9225-2294-4120-ba98-0f7ff6541370"
   },
   "outputs": [
    {
     "data": {
      "text/plain": [
       "Text(0.5, 1.0, 'PAM with Non-Uniform RF, ARI = 0.94')"
      ]
     },
     "execution_count": 134,
     "metadata": {
      "tags": []
     },
     "output_type": "execute_result"
    },
    {
     "data": {
      "image/png": "[encoded data removed]",
      "text/plain": [
       "<Figure size 432x288 with 1 Axes>"
      ]
     },
     "metadata": {
      "tags": []
     },
     "output_type": "display_data"
    }
   ],
   "source": [
    "#out\n",
    "\n",
    "#plt.figure(figsize=(5,5))\n",
    "for i in range(len(nonu_PAM_clusters_a)):\n",
    "    if nonu_PAM_clusters_a[i] == 1:\n",
    "        plt.scatter(out_1[i,0], out_1[i,1],s=200, c = colors[i], marker=TextPath((0, 0), '1', size=1000), alpha=1)\n",
    "    if nonu_PAM_clusters_a[i] == 2:\n",
    "        plt.scatter(out_1[i,0], out_1[i,1],s=200, c = colors[i], marker=TextPath((0, 0), '2', size=1000), alpha=1)\n",
    "    if nonu_PAM_clusters_a[i] == 3:\n",
    "        plt.scatter(out_1[i,0], out_1[i,1],s=200, c = colors[i], marker=TextPath((0, 0), '3', size=1000), alpha=1)\n",
    "    if nonu_PAM_clusters_a[i] == 4:\n",
    "        plt.scatter(out_1[i,0], out_1[i,1],s=200, c = colors[i], marker=TextPath((0, 0), '4', size=1000), alpha=1)\n",
    "plt.axis('equal');\n",
    "plt.title('PAM with Non-Uniform RF, ARI = 0.94')"
   ]
  },
  {
   "cell_type": "markdown",
   "metadata": {
    "colab_type": "text",
    "id": "3SWAhEBceYoL"
   },
   "source": [
    "## Conclusion  <a name=\"conclusion\"></a>\n",
    "\n",
    "As we can see, the NUFR procedure allows to improve the quality of clustering for the Ex2 dataset. The ARI for the NURF procedure paired with Spectral Clustering is 1, compared with 0.39 for the RF procedure with Spectral Clustering, indicating that the quality of clustering is better with the NURF procedure. The same result holds for K-medoids clustering procedure, where the NURF allows to increase the ARI from 0.42 (uniform) to 0.94.  "
   ]
  },
  {
   "cell_type": "markdown",
   "metadata": {
    "colab_type": "text",
    "id": "OpNesnTDvck0"
   },
   "source": [
    "## Links and References"
   ]
  },
  {
   "cell_type": "markdown",
   "metadata": {
    "colab_type": "text",
    "id": "dCwmizOCxMRw"
   },
   "source": [
    "[1] A full text of the master thesis: <a name=\"link1\"></a>\n",
    "\n",
    "https://drive.google.com/file/d/1Gy1LzrYAzq4N1ugnnYegNYHeTBmzK0jd/view?usp=sharing"
   ]
  },
  {
   "cell_type": "markdown",
   "metadata": {
    "colab_type": "text",
    "id": "oX740fTGxOEE"
   },
   "source": [
    "[2] <a name=\"link2\"></a> Bauckhage, C., 2015, \"NumPy / SciPy Recipes for Data Science: k-Medoids Clustering,\"\n",
    "doi:10.13140/2.1.4453.2009.\n",
    "https://www.researchgate.net/publication/272351873_NumPy_SciPy_Recipes_for_Data_Science_k-Medoids_Clustering\n",
    "\n"
   ]
  },
  {
   "cell_type": "markdown",
   "metadata": {
    "colab_type": "text",
    "id": "oUNsVlX_xOQS"
   },
   "source": [
    "[3] <a name=\"link3\"></a> Random Forest from scratch: \n",
    "https://machinelearningmastery.com/implement-random-forest-scratch-python/\n",
    "\n"
   ]
  }
 ],
 "metadata": {
  "colab": {
   "collapsed_sections": [
    "3s4Qt4ERVA5D"
   ],
   "name": "Application notebook ",
   "provenance": [],
   "toc_visible": true
  },
  "kernelspec": {
   "display_name": "Python 3",
   "language": "python",
   "name": "python3"
  },
  "language_info": {
   "codemirror_mode": {
    "name": "ipython",
    "version": 3
   },
   "file_extension": ".py",
   "mimetype": "text/x-python",
   "name": "python",
   "nbconvert_exporter": "python",
   "pygments_lexer": "ipython3",
   "version": "3.7.3"
  }
 },
 "nbformat": 4,
 "nbformat_minor": 1
}
